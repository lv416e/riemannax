{
 "cells": [
  {
   "cell_type": "markdown",
   "metadata": {
    "vscode": {
     "languageId": "plaintext"
    }
   },
   "source": [
    "# Sphere Optimization Demo - RiemannAX\n"
   ]
  },
  {
   "cell_type": "code",
   "execution_count": null,
   "metadata": {},
   "outputs": [],
   "source": [
    "import jax\n",
    "import jax.numpy as jnp\n",
    "import matplotlib.pyplot as plt\n",
    "import numpy as np\n",
    "\n",
    "import riemannax as rx"
   ]
  },
  {
   "cell_type": "code",
   "execution_count": null,
   "metadata": {},
   "outputs": [],
   "source": [
    "def plot_sphere_with_points(points, colors=None, labels=None):\n",
    "    \"\"\"Function to plot a 3D sphere with points on its surface from multiple viewpoints.\"\"\"\n",
    "    fig = plt.figure(figsize=(15, 10))\n",
    "\n",
    "    # Create viewpoints - different angles to view the sphere\n",
    "    viewpoints = [\n",
    "        (30, 45),  # Standard perspective view\n",
    "        (90, 0),  # Side view\n",
    "        (0, 0),  # Front view\n",
    "        (0, 90),  # Top view\n",
    "    ]\n",
    "\n",
    "    for i, (elev, azim) in enumerate(viewpoints):\n",
    "        ax = fig.add_subplot(2, 2, i + 1, projection=\"3d\")\n",
    "\n",
    "        # Plot the sphere with higher transparency\n",
    "        u = np.linspace(0, 2 * np.pi, 100)\n",
    "        v = np.linspace(0, np.pi, 100)\n",
    "        x = np.outer(np.cos(u), np.sin(v))\n",
    "        y = np.outer(np.sin(u), np.sin(v))\n",
    "        z = np.outer(np.ones(np.size(u)), np.cos(v))\n",
    "\n",
    "        ax.plot_surface(x, y, z, color=\"skyblue\", alpha=0.2)  # More transparent\n",
    "\n",
    "        # Set axis labels\n",
    "        ax.set_xlabel(\"X\")\n",
    "        ax.set_ylabel(\"Y\")\n",
    "        ax.set_zlabel(\"Z\")\n",
    "        ax.set_title(f\"View: elevation={elev}°, azimuth={azim}°\")\n",
    "\n",
    "        # Plot the North Pole\n",
    "        ax.scatter([0], [0], [1], color=\"red\", s=100, label=\"North Pole (Target)\")\n",
    "\n",
    "        # Plot optimization points with small offsets if too close to each other\n",
    "        if colors is None:\n",
    "            colors = [\"blue\"] * len(points)\n",
    "\n",
    "        for j, point in enumerate(points):\n",
    "            label = labels[j] if labels is not None and j < len(labels) else None\n",
    "\n",
    "            # Add a small offset to the optimal solution to avoid overlap\n",
    "            # Only if it's very close to the target (North Pole)\n",
    "            plot_point = point.copy()\n",
    "            if j == 1 and np.linalg.norm(point - np.array([0, 0, 1])) < 0.05:\n",
    "                # Add small offset for visualization purposes only\n",
    "                plot_point = plot_point * 0.98  # Slightly scale down to avoid overlap\n",
    "\n",
    "            ax.scatter(\n",
    "                plot_point[0],\n",
    "                plot_point[1],\n",
    "                plot_point[2],\n",
    "                color=colors[j],\n",
    "                s=100,\n",
    "                label=label,\n",
    "                edgecolor=\"white\",\n",
    "            )\n",
    "\n",
    "        # Show legend\n",
    "        ax.legend()\n",
    "\n",
    "        # Set viewpoint\n",
    "        ax.view_init(elev=elev, azim=azim)\n",
    "\n",
    "        # Make grid lines more visible\n",
    "        ax.grid(True, alpha=0.3)\n",
    "\n",
    "    plt.tight_layout()\n",
    "    return fig"
   ]
  },
  {
   "cell_type": "code",
   "execution_count": null,
   "metadata": {},
   "outputs": [],
   "source": [
    "# 1. Define the sphere manifold\n",
    "sphere = rx.Sphere()\n",
    "\n",
    "\n",
    "# 2. Define the optimization problem - Find point closest to North Pole [0, 0, 1]\n",
    "def cost_fn(x):\n",
    "    target = jnp.array([0.0, 0.0, 1.0])  # North Pole\n",
    "    return -jnp.dot(x, target)  # Maximize inner product (equivalent to minimizing distance)\n",
    "\n",
    "\n",
    "problem = rx.RiemannianProblem(sphere, cost_fn)\n",
    "\n",
    "# 3. Set a random initial point\n",
    "key = jax.random.key(42)\n",
    "x0 = sphere.random_point(key)\n",
    "\n",
    "# 4. Solve the problem\n",
    "result = rx.minimize(problem, x0, method=\"rsgd\", options={\"learning_rate\": 0.1, \"max_iterations\": 100})\n",
    "\n",
    "# 5. Display results\n",
    "print(f\"Initial point: {x0}\")\n",
    "print(f\"Optimal point: {result.x}\")\n",
    "print(f\"Cost function value: {result.fun}\")\n",
    "print(f\"Number of iterations until convergence: {result.niter}\")\n",
    "\n",
    "# 6. Visualization\n",
    "fig = plot_sphere_with_points([x0, result.x], colors=[\"green\", \"blue\"], labels=[\"Initial point\", \"Optimal solution\"])\n",
    "plt.savefig(\"output/sphere_optimization.png\")\n",
    "plt.show()"
   ]
  },
  {
   "cell_type": "code",
   "execution_count": null,
   "metadata": {},
   "outputs": [],
   "source": []
  }
 ],
 "metadata": {
  "kernelspec": {
   "display_name": "Python 3",
   "language": "python",
   "name": "python3"
  },
  "language_info": {
   "codemirror_mode": {
    "name": "ipython",
    "version": 3
   },
   "file_extension": ".py",
   "mimetype": "text/x-python",
   "name": "python",
   "nbconvert_exporter": "python",
   "pygments_lexer": "ipython3",
   "version": "3.10.12"
  }
 },
 "nbformat": 4,
 "nbformat_minor": 2
}
